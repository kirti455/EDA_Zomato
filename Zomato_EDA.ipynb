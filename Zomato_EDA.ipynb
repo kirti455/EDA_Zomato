{
 "cells": [
  {
   "cell_type": "code",
   "execution_count": 1,
   "id": "63bee5f3",
   "metadata": {},
   "outputs": [],
   "source": [
    "#Importing all the necessary libraries-->\n",
    "\n",
    "import numpy as np\n",
    "import pandas as pd\n",
    "import matplotlib.pyplot as plt\n",
    "import seaborn as sns\n",
    "import warnings\n",
    "warnings.filterwarnings('ignore')"
   ]
  },
  {
   "cell_type": "code",
   "execution_count": 2,
   "id": "cff71cd3",
   "metadata": {},
   "outputs": [],
   "source": [
    "#To expand all the columns and rows-->\n",
    "\n",
    "pd.set_option('display.max_columns', None)\n",
    "pd.set_option('display.max_rows', None)"
   ]
  },
  {
   "cell_type": "code",
   "execution_count": 3,
   "id": "c8ecea9c",
   "metadata": {},
   "outputs": [
    {
     "data": {
      "text/html": [
       "<div>\n",
       "<style scoped>\n",
       "    .dataframe tbody tr th:only-of-type {\n",
       "        vertical-align: middle;\n",
       "    }\n",
       "\n",
       "    .dataframe tbody tr th {\n",
       "        vertical-align: top;\n",
       "    }\n",
       "\n",
       "    .dataframe thead th {\n",
       "        text-align: right;\n",
       "    }\n",
       "</style>\n",
       "<table border=\"1\" class=\"dataframe\">\n",
       "  <thead>\n",
       "    <tr style=\"text-align: right;\">\n",
       "      <th></th>\n",
       "      <th>Restaurant ID</th>\n",
       "      <th>Restaurant Name</th>\n",
       "      <th>Country Code</th>\n",
       "      <th>City</th>\n",
       "      <th>Address</th>\n",
       "      <th>Locality</th>\n",
       "      <th>Locality Verbose</th>\n",
       "      <th>Longitude</th>\n",
       "      <th>Latitude</th>\n",
       "      <th>Cuisines</th>\n",
       "      <th>Average Cost for two</th>\n",
       "      <th>Currency</th>\n",
       "      <th>Has Table booking</th>\n",
       "      <th>Has Online delivery</th>\n",
       "      <th>Is delivering now</th>\n",
       "      <th>Switch to order menu</th>\n",
       "      <th>Price range</th>\n",
       "      <th>Aggregate rating</th>\n",
       "      <th>Rating color</th>\n",
       "      <th>Rating text</th>\n",
       "      <th>Votes</th>\n",
       "    </tr>\n",
       "  </thead>\n",
       "  <tbody>\n",
       "    <tr>\n",
       "      <th>0</th>\n",
       "      <td>6317637</td>\n",
       "      <td>Le Petit Souffle</td>\n",
       "      <td>162</td>\n",
       "      <td>Makati City</td>\n",
       "      <td>Third Floor, Century City Mall, Kalayaan Avenu...</td>\n",
       "      <td>Century City Mall, Poblacion, Makati City</td>\n",
       "      <td>Century City Mall, Poblacion, Makati City, Mak...</td>\n",
       "      <td>121.027535</td>\n",
       "      <td>14.565443</td>\n",
       "      <td>French, Japanese, Desserts</td>\n",
       "      <td>1100</td>\n",
       "      <td>Botswana Pula(P)</td>\n",
       "      <td>Yes</td>\n",
       "      <td>No</td>\n",
       "      <td>No</td>\n",
       "      <td>No</td>\n",
       "      <td>3</td>\n",
       "      <td>4.8</td>\n",
       "      <td>Dark Green</td>\n",
       "      <td>Excellent</td>\n",
       "      <td>314</td>\n",
       "    </tr>\n",
       "    <tr>\n",
       "      <th>1</th>\n",
       "      <td>6304287</td>\n",
       "      <td>Izakaya Kikufuji</td>\n",
       "      <td>162</td>\n",
       "      <td>Makati City</td>\n",
       "      <td>Little Tokyo, 2277 Chino Roces Avenue, Legaspi...</td>\n",
       "      <td>Little Tokyo, Legaspi Village, Makati City</td>\n",
       "      <td>Little Tokyo, Legaspi Village, Makati City, Ma...</td>\n",
       "      <td>121.014101</td>\n",
       "      <td>14.553708</td>\n",
       "      <td>Japanese</td>\n",
       "      <td>1200</td>\n",
       "      <td>Botswana Pula(P)</td>\n",
       "      <td>Yes</td>\n",
       "      <td>No</td>\n",
       "      <td>No</td>\n",
       "      <td>No</td>\n",
       "      <td>3</td>\n",
       "      <td>4.5</td>\n",
       "      <td>Dark Green</td>\n",
       "      <td>Excellent</td>\n",
       "      <td>591</td>\n",
       "    </tr>\n",
       "    <tr>\n",
       "      <th>2</th>\n",
       "      <td>6300002</td>\n",
       "      <td>Heat - Edsa Shangri-La</td>\n",
       "      <td>162</td>\n",
       "      <td>Mandaluyong City</td>\n",
       "      <td>Edsa Shangri-La, 1 Garden Way, Ortigas, Mandal...</td>\n",
       "      <td>Edsa Shangri-La, Ortigas, Mandaluyong City</td>\n",
       "      <td>Edsa Shangri-La, Ortigas, Mandaluyong City, Ma...</td>\n",
       "      <td>121.056831</td>\n",
       "      <td>14.581404</td>\n",
       "      <td>Seafood, Asian, Filipino, Indian</td>\n",
       "      <td>4000</td>\n",
       "      <td>Botswana Pula(P)</td>\n",
       "      <td>Yes</td>\n",
       "      <td>No</td>\n",
       "      <td>No</td>\n",
       "      <td>No</td>\n",
       "      <td>4</td>\n",
       "      <td>4.4</td>\n",
       "      <td>Green</td>\n",
       "      <td>Very Good</td>\n",
       "      <td>270</td>\n",
       "    </tr>\n",
       "  </tbody>\n",
       "</table>\n",
       "</div>"
      ],
      "text/plain": [
       "   Restaurant ID         Restaurant Name  Country Code              City  \\\n",
       "0        6317637        Le Petit Souffle           162       Makati City   \n",
       "1        6304287        Izakaya Kikufuji           162       Makati City   \n",
       "2        6300002  Heat - Edsa Shangri-La           162  Mandaluyong City   \n",
       "\n",
       "                                             Address  \\\n",
       "0  Third Floor, Century City Mall, Kalayaan Avenu...   \n",
       "1  Little Tokyo, 2277 Chino Roces Avenue, Legaspi...   \n",
       "2  Edsa Shangri-La, 1 Garden Way, Ortigas, Mandal...   \n",
       "\n",
       "                                     Locality  \\\n",
       "0   Century City Mall, Poblacion, Makati City   \n",
       "1  Little Tokyo, Legaspi Village, Makati City   \n",
       "2  Edsa Shangri-La, Ortigas, Mandaluyong City   \n",
       "\n",
       "                                    Locality Verbose   Longitude   Latitude  \\\n",
       "0  Century City Mall, Poblacion, Makati City, Mak...  121.027535  14.565443   \n",
       "1  Little Tokyo, Legaspi Village, Makati City, Ma...  121.014101  14.553708   \n",
       "2  Edsa Shangri-La, Ortigas, Mandaluyong City, Ma...  121.056831  14.581404   \n",
       "\n",
       "                           Cuisines  Average Cost for two          Currency  \\\n",
       "0        French, Japanese, Desserts                  1100  Botswana Pula(P)   \n",
       "1                          Japanese                  1200  Botswana Pula(P)   \n",
       "2  Seafood, Asian, Filipino, Indian                  4000  Botswana Pula(P)   \n",
       "\n",
       "  Has Table booking Has Online delivery Is delivering now  \\\n",
       "0               Yes                  No                No   \n",
       "1               Yes                  No                No   \n",
       "2               Yes                  No                No   \n",
       "\n",
       "  Switch to order menu  Price range  Aggregate rating Rating color  \\\n",
       "0                   No            3               4.8   Dark Green   \n",
       "1                   No            3               4.5   Dark Green   \n",
       "2                   No            4               4.4        Green   \n",
       "\n",
       "  Rating text  Votes  \n",
       "0   Excellent    314  \n",
       "1   Excellent    591  \n",
       "2   Very Good    270  "
      ]
     },
     "execution_count": 3,
     "metadata": {},
     "output_type": "execute_result"
    }
   ],
   "source": [
    "#Importing the dataset and checking the first 3 records--> \n",
    "\n",
    "zt=pd.read_csv('zomato.csv', encoding='latin-1')\n",
    "zt.head(3)"
   ]
  },
  {
   "cell_type": "code",
   "execution_count": 4,
   "id": "871a4c69",
   "metadata": {},
   "outputs": [
    {
     "name": "stdout",
     "output_type": "stream",
     "text": [
      "<class 'pandas.core.frame.DataFrame'>\n",
      "RangeIndex: 9551 entries, 0 to 9550\n",
      "Data columns (total 21 columns):\n",
      " #   Column                Non-Null Count  Dtype  \n",
      "---  ------                --------------  -----  \n",
      " 0   Restaurant ID         9551 non-null   int64  \n",
      " 1   Restaurant Name       9551 non-null   object \n",
      " 2   Country Code          9551 non-null   int64  \n",
      " 3   City                  9551 non-null   object \n",
      " 4   Address               9551 non-null   object \n",
      " 5   Locality              9551 non-null   object \n",
      " 6   Locality Verbose      9551 non-null   object \n",
      " 7   Longitude             9551 non-null   float64\n",
      " 8   Latitude              9551 non-null   float64\n",
      " 9   Cuisines              9542 non-null   object \n",
      " 10  Average Cost for two  9551 non-null   int64  \n",
      " 11  Currency              9551 non-null   object \n",
      " 12  Has Table booking     9551 non-null   object \n",
      " 13  Has Online delivery   9551 non-null   object \n",
      " 14  Is delivering now     9551 non-null   object \n",
      " 15  Switch to order menu  9551 non-null   object \n",
      " 16  Price range           9551 non-null   int64  \n",
      " 17  Aggregate rating      9551 non-null   float64\n",
      " 18  Rating color          9551 non-null   object \n",
      " 19  Rating text           9551 non-null   object \n",
      " 20  Votes                 9551 non-null   int64  \n",
      "dtypes: float64(3), int64(5), object(13)\n",
      "memory usage: 1.5+ MB\n"
     ]
    }
   ],
   "source": [
    "zt.info()"
   ]
  },
  {
   "cell_type": "code",
   "execution_count": 5,
   "id": "d871da10",
   "metadata": {},
   "outputs": [
    {
     "data": {
      "text/html": [
       "<div>\n",
       "<style scoped>\n",
       "    .dataframe tbody tr th:only-of-type {\n",
       "        vertical-align: middle;\n",
       "    }\n",
       "\n",
       "    .dataframe tbody tr th {\n",
       "        vertical-align: top;\n",
       "    }\n",
       "\n",
       "    .dataframe thead th {\n",
       "        text-align: right;\n",
       "    }\n",
       "</style>\n",
       "<table border=\"1\" class=\"dataframe\">\n",
       "  <thead>\n",
       "    <tr style=\"text-align: right;\">\n",
       "      <th></th>\n",
       "      <th>Country Code</th>\n",
       "      <th>Country</th>\n",
       "    </tr>\n",
       "  </thead>\n",
       "  <tbody>\n",
       "    <tr>\n",
       "      <th>0</th>\n",
       "      <td>1</td>\n",
       "      <td>India</td>\n",
       "    </tr>\n",
       "    <tr>\n",
       "      <th>1</th>\n",
       "      <td>14</td>\n",
       "      <td>Australia</td>\n",
       "    </tr>\n",
       "    <tr>\n",
       "      <th>2</th>\n",
       "      <td>30</td>\n",
       "      <td>Brazil</td>\n",
       "    </tr>\n",
       "    <tr>\n",
       "      <th>3</th>\n",
       "      <td>37</td>\n",
       "      <td>Canada</td>\n",
       "    </tr>\n",
       "    <tr>\n",
       "      <th>4</th>\n",
       "      <td>94</td>\n",
       "      <td>Indonesia</td>\n",
       "    </tr>\n",
       "  </tbody>\n",
       "</table>\n",
       "</div>"
      ],
      "text/plain": [
       "   Country Code    Country\n",
       "0             1      India\n",
       "1            14  Australia\n",
       "2            30     Brazil\n",
       "3            37     Canada\n",
       "4            94  Indonesia"
      ]
     },
     "execution_count": 5,
     "metadata": {},
     "output_type": "execute_result"
    }
   ],
   "source": [
    "#Importing another dataset-->\n",
    "\n",
    "country=pd.read_excel('Country-Code.xlsx')\n",
    "country.head()"
   ]
  },
  {
   "cell_type": "code",
   "execution_count": 6,
   "id": "5ebd99b3",
   "metadata": {},
   "outputs": [
    {
     "data": {
      "text/html": [
       "<div>\n",
       "<style scoped>\n",
       "    .dataframe tbody tr th:only-of-type {\n",
       "        vertical-align: middle;\n",
       "    }\n",
       "\n",
       "    .dataframe tbody tr th {\n",
       "        vertical-align: top;\n",
       "    }\n",
       "\n",
       "    .dataframe thead th {\n",
       "        text-align: right;\n",
       "    }\n",
       "</style>\n",
       "<table border=\"1\" class=\"dataframe\">\n",
       "  <thead>\n",
       "    <tr style=\"text-align: right;\">\n",
       "      <th></th>\n",
       "      <th>Restaurant ID</th>\n",
       "      <th>Restaurant Name</th>\n",
       "      <th>Country Code</th>\n",
       "      <th>City</th>\n",
       "      <th>Address</th>\n",
       "      <th>Locality</th>\n",
       "      <th>Locality Verbose</th>\n",
       "      <th>Longitude</th>\n",
       "      <th>Latitude</th>\n",
       "      <th>Cuisines</th>\n",
       "      <th>Average Cost for two</th>\n",
       "      <th>Currency</th>\n",
       "      <th>Has Table booking</th>\n",
       "      <th>Has Online delivery</th>\n",
       "      <th>Is delivering now</th>\n",
       "      <th>Switch to order menu</th>\n",
       "      <th>Price range</th>\n",
       "      <th>Aggregate rating</th>\n",
       "      <th>Rating color</th>\n",
       "      <th>Rating text</th>\n",
       "      <th>Votes</th>\n",
       "      <th>Country</th>\n",
       "    </tr>\n",
       "  </thead>\n",
       "  <tbody>\n",
       "    <tr>\n",
       "      <th>0</th>\n",
       "      <td>6317637</td>\n",
       "      <td>Le Petit Souffle</td>\n",
       "      <td>162</td>\n",
       "      <td>Makati City</td>\n",
       "      <td>Third Floor, Century City Mall, Kalayaan Avenu...</td>\n",
       "      <td>Century City Mall, Poblacion, Makati City</td>\n",
       "      <td>Century City Mall, Poblacion, Makati City, Mak...</td>\n",
       "      <td>121.027535</td>\n",
       "      <td>14.565443</td>\n",
       "      <td>French, Japanese, Desserts</td>\n",
       "      <td>1100</td>\n",
       "      <td>Botswana Pula(P)</td>\n",
       "      <td>Yes</td>\n",
       "      <td>No</td>\n",
       "      <td>No</td>\n",
       "      <td>No</td>\n",
       "      <td>3</td>\n",
       "      <td>4.8</td>\n",
       "      <td>Dark Green</td>\n",
       "      <td>Excellent</td>\n",
       "      <td>314</td>\n",
       "      <td>Phillipines</td>\n",
       "    </tr>\n",
       "    <tr>\n",
       "      <th>1</th>\n",
       "      <td>6304287</td>\n",
       "      <td>Izakaya Kikufuji</td>\n",
       "      <td>162</td>\n",
       "      <td>Makati City</td>\n",
       "      <td>Little Tokyo, 2277 Chino Roces Avenue, Legaspi...</td>\n",
       "      <td>Little Tokyo, Legaspi Village, Makati City</td>\n",
       "      <td>Little Tokyo, Legaspi Village, Makati City, Ma...</td>\n",
       "      <td>121.014101</td>\n",
       "      <td>14.553708</td>\n",
       "      <td>Japanese</td>\n",
       "      <td>1200</td>\n",
       "      <td>Botswana Pula(P)</td>\n",
       "      <td>Yes</td>\n",
       "      <td>No</td>\n",
       "      <td>No</td>\n",
       "      <td>No</td>\n",
       "      <td>3</td>\n",
       "      <td>4.5</td>\n",
       "      <td>Dark Green</td>\n",
       "      <td>Excellent</td>\n",
       "      <td>591</td>\n",
       "      <td>Phillipines</td>\n",
       "    </tr>\n",
       "    <tr>\n",
       "      <th>2</th>\n",
       "      <td>6300002</td>\n",
       "      <td>Heat - Edsa Shangri-La</td>\n",
       "      <td>162</td>\n",
       "      <td>Mandaluyong City</td>\n",
       "      <td>Edsa Shangri-La, 1 Garden Way, Ortigas, Mandal...</td>\n",
       "      <td>Edsa Shangri-La, Ortigas, Mandaluyong City</td>\n",
       "      <td>Edsa Shangri-La, Ortigas, Mandaluyong City, Ma...</td>\n",
       "      <td>121.056831</td>\n",
       "      <td>14.581404</td>\n",
       "      <td>Seafood, Asian, Filipino, Indian</td>\n",
       "      <td>4000</td>\n",
       "      <td>Botswana Pula(P)</td>\n",
       "      <td>Yes</td>\n",
       "      <td>No</td>\n",
       "      <td>No</td>\n",
       "      <td>No</td>\n",
       "      <td>4</td>\n",
       "      <td>4.4</td>\n",
       "      <td>Green</td>\n",
       "      <td>Very Good</td>\n",
       "      <td>270</td>\n",
       "      <td>Phillipines</td>\n",
       "    </tr>\n",
       "  </tbody>\n",
       "</table>\n",
       "</div>"
      ],
      "text/plain": [
       "   Restaurant ID         Restaurant Name  Country Code              City  \\\n",
       "0        6317637        Le Petit Souffle           162       Makati City   \n",
       "1        6304287        Izakaya Kikufuji           162       Makati City   \n",
       "2        6300002  Heat - Edsa Shangri-La           162  Mandaluyong City   \n",
       "\n",
       "                                             Address  \\\n",
       "0  Third Floor, Century City Mall, Kalayaan Avenu...   \n",
       "1  Little Tokyo, 2277 Chino Roces Avenue, Legaspi...   \n",
       "2  Edsa Shangri-La, 1 Garden Way, Ortigas, Mandal...   \n",
       "\n",
       "                                     Locality  \\\n",
       "0   Century City Mall, Poblacion, Makati City   \n",
       "1  Little Tokyo, Legaspi Village, Makati City   \n",
       "2  Edsa Shangri-La, Ortigas, Mandaluyong City   \n",
       "\n",
       "                                    Locality Verbose   Longitude   Latitude  \\\n",
       "0  Century City Mall, Poblacion, Makati City, Mak...  121.027535  14.565443   \n",
       "1  Little Tokyo, Legaspi Village, Makati City, Ma...  121.014101  14.553708   \n",
       "2  Edsa Shangri-La, Ortigas, Mandaluyong City, Ma...  121.056831  14.581404   \n",
       "\n",
       "                           Cuisines  Average Cost for two          Currency  \\\n",
       "0        French, Japanese, Desserts                  1100  Botswana Pula(P)   \n",
       "1                          Japanese                  1200  Botswana Pula(P)   \n",
       "2  Seafood, Asian, Filipino, Indian                  4000  Botswana Pula(P)   \n",
       "\n",
       "  Has Table booking Has Online delivery Is delivering now  \\\n",
       "0               Yes                  No                No   \n",
       "1               Yes                  No                No   \n",
       "2               Yes                  No                No   \n",
       "\n",
       "  Switch to order menu  Price range  Aggregate rating Rating color  \\\n",
       "0                   No            3               4.8   Dark Green   \n",
       "1                   No            3               4.5   Dark Green   \n",
       "2                   No            4               4.4        Green   \n",
       "\n",
       "  Rating text  Votes      Country  \n",
       "0   Excellent    314  Phillipines  \n",
       "1   Excellent    591  Phillipines  \n",
       "2   Very Good    270  Phillipines  "
      ]
     },
     "execution_count": 6,
     "metadata": {},
     "output_type": "execute_result"
    }
   ],
   "source": [
    "#Using Merge function to merge these two datasets on the primary key, 'Country Code'-->\n",
    "\n",
    "df=pd.merge(zt,country, on='Country Code')\n",
    "df.head(3)"
   ]
  },
  {
   "cell_type": "code",
   "execution_count": 7,
   "id": "92a7899d",
   "metadata": {},
   "outputs": [
    {
     "name": "stdout",
     "output_type": "stream",
     "text": [
      "<class 'pandas.core.frame.DataFrame'>\n",
      "Int64Index: 9551 entries, 0 to 9550\n",
      "Data columns (total 22 columns):\n",
      " #   Column                Non-Null Count  Dtype  \n",
      "---  ------                --------------  -----  \n",
      " 0   Restaurant ID         9551 non-null   int64  \n",
      " 1   Restaurant Name       9551 non-null   object \n",
      " 2   Country Code          9551 non-null   int64  \n",
      " 3   City                  9551 non-null   object \n",
      " 4   Address               9551 non-null   object \n",
      " 5   Locality              9551 non-null   object \n",
      " 6   Locality Verbose      9551 non-null   object \n",
      " 7   Longitude             9551 non-null   float64\n",
      " 8   Latitude              9551 non-null   float64\n",
      " 9   Cuisines              9542 non-null   object \n",
      " 10  Average Cost for two  9551 non-null   int64  \n",
      " 11  Currency              9551 non-null   object \n",
      " 12  Has Table booking     9551 non-null   object \n",
      " 13  Has Online delivery   9551 non-null   object \n",
      " 14  Is delivering now     9551 non-null   object \n",
      " 15  Switch to order menu  9551 non-null   object \n",
      " 16  Price range           9551 non-null   int64  \n",
      " 17  Aggregate rating      9551 non-null   float64\n",
      " 18  Rating color          9551 non-null   object \n",
      " 19  Rating text           9551 non-null   object \n",
      " 20  Votes                 9551 non-null   int64  \n",
      " 21  Country               9551 non-null   object \n",
      "dtypes: float64(3), int64(5), object(14)\n",
      "memory usage: 1.7+ MB\n"
     ]
    }
   ],
   "source": [
    "df.info()"
   ]
  },
  {
   "cell_type": "code",
   "execution_count": 8,
   "id": "00d62fd6",
   "metadata": {},
   "outputs": [
    {
     "data": {
      "text/plain": [
       "Restaurant ID           0\n",
       "Restaurant Name         0\n",
       "Country Code            0\n",
       "City                    0\n",
       "Address                 0\n",
       "Locality                0\n",
       "Locality Verbose        0\n",
       "Longitude               0\n",
       "Latitude                0\n",
       "Cuisines                9\n",
       "Average Cost for two    0\n",
       "Currency                0\n",
       "Has Table booking       0\n",
       "Has Online delivery     0\n",
       "Is delivering now       0\n",
       "Switch to order menu    0\n",
       "Price range             0\n",
       "Aggregate rating        0\n",
       "Rating color            0\n",
       "Rating text             0\n",
       "Votes                   0\n",
       "Country                 0\n",
       "dtype: int64"
      ]
     },
     "execution_count": 8,
     "metadata": {},
     "output_type": "execute_result"
    }
   ],
   "source": [
    "#Checking for the null values-->\n",
    "\n",
    "df.isnull().sum()"
   ]
  },
  {
   "cell_type": "code",
   "execution_count": 9,
   "id": "8738f553",
   "metadata": {},
   "outputs": [],
   "source": [
    "#Dropping the null values-->\n",
    "\n",
    "df.dropna(inplace=True)"
   ]
  },
  {
   "cell_type": "code",
   "execution_count": 10,
   "id": "543a151f",
   "metadata": {},
   "outputs": [
    {
     "data": {
      "text/plain": [
       "0"
      ]
     },
     "execution_count": 10,
     "metadata": {},
     "output_type": "execute_result"
    }
   ],
   "source": [
    "#Checking for the duplicates-->\n",
    "\n",
    "df.duplicated().sum()"
   ]
  },
  {
   "cell_type": "code",
   "execution_count": 11,
   "id": "05597d11",
   "metadata": {},
   "outputs": [
    {
     "data": {
      "image/png": "[encoded data removed]",
      "text/plain": [
       "<Figure size 640x480 with 2 Axes>"
      ]
     },
     "metadata": {},
     "output_type": "display_data"
    }
   ],
   "source": [
    "#Plotting a heatmap to check the correlation among the numerical columns \n",
    "\n",
    "sns.heatmap(df.corr(), annot=True)\n",
    "plt.show()"
   ]
  },
  {
   "cell_type": "raw",
   "id": "3d0ace40",
   "metadata": {},
   "source": [
    "# From above we can infer that 'Price range' has the highest correlation with 'Aggregate rating'"
   ]
  },
  {
   "cell_type": "code",
   "execution_count": 12,
   "id": "1f7e553e",
   "metadata": {},
   "outputs": [
    {
     "name": "stdout",
     "output_type": "stream",
     "text": [
      "Num of columns in numcol - 8\n",
      "Num of columns in catcol - 14\n"
     ]
    }
   ],
   "source": [
    "#Grouping our columns into numeric and categorical based on their dtypes-->\n",
    "\n",
    "numcol=df.select_dtypes(include='number')\n",
    "catcol=df.select_dtypes(include='object')\n",
    "print('Num of columns in numcol -',numcol.shape[1])\n",
    "print('Num of columns in catcol -',catcol.shape[1])"
   ]
  },
  {
   "cell_type": "markdown",
   "id": "d25ddd7f",
   "metadata": {},
   "source": [
    "# Q1) Which are the top 3 country which uses zomato?"
   ]
  },
  {
   "cell_type": "code",
   "execution_count": 13,
   "id": "e0ba602e",
   "metadata": {},
   "outputs": [
    {
     "data": {
      "text/plain": [
       "India             8652\n",
       "United States      425\n",
       "United Kingdom      80\n",
       "Name: Country, dtype: int64"
      ]
     },
     "execution_count": 13,
     "metadata": {},
     "output_type": "execute_result"
    }
   ],
   "source": [
    "#Extracting which country has the most outlets of Zomato-->\n",
    "\n",
    "df['Country'].value_counts()[:3]"
   ]
  },
  {
   "cell_type": "code",
   "execution_count": 14,
   "id": "dc729153",
   "metadata": {},
   "outputs": [
    {
     "data": {
      "image/png": "[encoded data removed]",
      "text/plain": [
       "<Figure size 1000x600 with 1 Axes>"
      ]
     },
     "metadata": {},
     "output_type": "display_data"
    }
   ],
   "source": [
    "#Plotting a Bar chart of the top 3 countries with most num of outlets-->\n",
    "\n",
    "plt.figure(figsize=(10,6))\n",
    "sns.barplot(x=df['Country'].value_counts()[:3].keys(), y=df['Country'].value_counts()[:3], data=df)\n",
    "plt.show()"
   ]
  },
  {
   "cell_type": "code",
   "execution_count": 15,
   "id": "ddfbe792",
   "metadata": {},
   "outputs": [
    {
     "data": {
      "image/png": "[encoded data removed]",
      "text/plain": [
       "<Figure size 800x600 with 1 Axes>"
      ]
     },
     "metadata": {},
     "output_type": "display_data"
    }
   ],
   "source": [
    "#Plotting a piechart for the same-->\n",
    "\n",
    "plt.figure(figsize=(8,6))\n",
    "plt.pie(df['Country'].value_counts().head(3), labels=df['Country'].value_counts().head(3).keys(), \n",
    "        autopct='%.1f%%', explode=[0,0.1,0.1], shadow=True)\n",
    "plt.show()"
   ]
  },
  {
   "cell_type": "raw",
   "id": "7abc0666",
   "metadata": {},
   "source": [
    "# We can infer that most of the outlets, infact more than 93% of outlets are in India"
   ]
  },
  {
   "cell_type": "code",
   "execution_count": 16,
   "id": "24af4d00",
   "metadata": {},
   "outputs": [
    {
     "data": {
      "text/html": [
       "<div>\n",
       "<style scoped>\n",
       "    .dataframe tbody tr th:only-of-type {\n",
       "        vertical-align: middle;\n",
       "    }\n",
       "\n",
       "    .dataframe tbody tr th {\n",
       "        vertical-align: top;\n",
       "    }\n",
       "\n",
       "    .dataframe thead th {\n",
       "        text-align: right;\n",
       "    }\n",
       "</style>\n",
       "<table border=\"1\" class=\"dataframe\">\n",
       "  <thead>\n",
       "    <tr style=\"text-align: right;\">\n",
       "      <th></th>\n",
       "      <th>Aggregate rating</th>\n",
       "      <th>Rating color</th>\n",
       "      <th>Rating text</th>\n",
       "      <th>count</th>\n",
       "    </tr>\n",
       "  </thead>\n",
       "  <tbody>\n",
       "    <tr>\n",
       "      <th>0</th>\n",
       "      <td>0.0</td>\n",
       "      <td>White</td>\n",
       "      <td>Not rated</td>\n",
       "      <td>2148</td>\n",
       "    </tr>\n",
       "    <tr>\n",
       "      <th>1</th>\n",
       "      <td>1.8</td>\n",
       "      <td>Red</td>\n",
       "      <td>Poor</td>\n",
       "      <td>1</td>\n",
       "    </tr>\n",
       "    <tr>\n",
       "      <th>2</th>\n",
       "      <td>1.9</td>\n",
       "      <td>Red</td>\n",
       "      <td>Poor</td>\n",
       "      <td>2</td>\n",
       "    </tr>\n",
       "    <tr>\n",
       "      <th>3</th>\n",
       "      <td>2.0</td>\n",
       "      <td>Red</td>\n",
       "      <td>Poor</td>\n",
       "      <td>7</td>\n",
       "    </tr>\n",
       "    <tr>\n",
       "      <th>4</th>\n",
       "      <td>2.1</td>\n",
       "      <td>Red</td>\n",
       "      <td>Poor</td>\n",
       "      <td>15</td>\n",
       "    </tr>\n",
       "    <tr>\n",
       "      <th>5</th>\n",
       "      <td>2.2</td>\n",
       "      <td>Red</td>\n",
       "      <td>Poor</td>\n",
       "      <td>27</td>\n",
       "    </tr>\n",
       "    <tr>\n",
       "      <th>6</th>\n",
       "      <td>2.3</td>\n",
       "      <td>Red</td>\n",
       "      <td>Poor</td>\n",
       "      <td>47</td>\n",
       "    </tr>\n",
       "    <tr>\n",
       "      <th>7</th>\n",
       "      <td>2.4</td>\n",
       "      <td>Red</td>\n",
       "      <td>Poor</td>\n",
       "      <td>87</td>\n",
       "    </tr>\n",
       "    <tr>\n",
       "      <th>8</th>\n",
       "      <td>2.5</td>\n",
       "      <td>Orange</td>\n",
       "      <td>Average</td>\n",
       "      <td>110</td>\n",
       "    </tr>\n",
       "    <tr>\n",
       "      <th>9</th>\n",
       "      <td>2.6</td>\n",
       "      <td>Orange</td>\n",
       "      <td>Average</td>\n",
       "      <td>191</td>\n",
       "    </tr>\n",
       "    <tr>\n",
       "      <th>10</th>\n",
       "      <td>2.7</td>\n",
       "      <td>Orange</td>\n",
       "      <td>Average</td>\n",
       "      <td>250</td>\n",
       "    </tr>\n",
       "    <tr>\n",
       "      <th>11</th>\n",
       "      <td>2.8</td>\n",
       "      <td>Orange</td>\n",
       "      <td>Average</td>\n",
       "      <td>315</td>\n",
       "    </tr>\n",
       "    <tr>\n",
       "      <th>12</th>\n",
       "      <td>2.9</td>\n",
       "      <td>Orange</td>\n",
       "      <td>Average</td>\n",
       "      <td>381</td>\n",
       "    </tr>\n",
       "    <tr>\n",
       "      <th>13</th>\n",
       "      <td>3.0</td>\n",
       "      <td>Orange</td>\n",
       "      <td>Average</td>\n",
       "      <td>468</td>\n",
       "    </tr>\n",
       "    <tr>\n",
       "      <th>14</th>\n",
       "      <td>3.1</td>\n",
       "      <td>Orange</td>\n",
       "      <td>Average</td>\n",
       "      <td>519</td>\n",
       "    </tr>\n",
       "    <tr>\n",
       "      <th>15</th>\n",
       "      <td>3.2</td>\n",
       "      <td>Orange</td>\n",
       "      <td>Average</td>\n",
       "      <td>522</td>\n",
       "    </tr>\n",
       "    <tr>\n",
       "      <th>16</th>\n",
       "      <td>3.3</td>\n",
       "      <td>Orange</td>\n",
       "      <td>Average</td>\n",
       "      <td>483</td>\n",
       "    </tr>\n",
       "    <tr>\n",
       "      <th>17</th>\n",
       "      <td>3.4</td>\n",
       "      <td>Orange</td>\n",
       "      <td>Average</td>\n",
       "      <td>495</td>\n",
       "    </tr>\n",
       "    <tr>\n",
       "      <th>18</th>\n",
       "      <td>3.5</td>\n",
       "      <td>Yellow</td>\n",
       "      <td>Good</td>\n",
       "      <td>480</td>\n",
       "    </tr>\n",
       "    <tr>\n",
       "      <th>19</th>\n",
       "      <td>3.6</td>\n",
       "      <td>Yellow</td>\n",
       "      <td>Good</td>\n",
       "      <td>458</td>\n",
       "    </tr>\n",
       "    <tr>\n",
       "      <th>20</th>\n",
       "      <td>3.7</td>\n",
       "      <td>Yellow</td>\n",
       "      <td>Good</td>\n",
       "      <td>427</td>\n",
       "    </tr>\n",
       "    <tr>\n",
       "      <th>21</th>\n",
       "      <td>3.8</td>\n",
       "      <td>Yellow</td>\n",
       "      <td>Good</td>\n",
       "      <td>399</td>\n",
       "    </tr>\n",
       "    <tr>\n",
       "      <th>22</th>\n",
       "      <td>3.9</td>\n",
       "      <td>Yellow</td>\n",
       "      <td>Good</td>\n",
       "      <td>332</td>\n",
       "    </tr>\n",
       "    <tr>\n",
       "      <th>23</th>\n",
       "      <td>4.0</td>\n",
       "      <td>Green</td>\n",
       "      <td>Very Good</td>\n",
       "      <td>266</td>\n",
       "    </tr>\n",
       "    <tr>\n",
       "      <th>24</th>\n",
       "      <td>4.1</td>\n",
       "      <td>Green</td>\n",
       "      <td>Very Good</td>\n",
       "      <td>274</td>\n",
       "    </tr>\n",
       "    <tr>\n",
       "      <th>25</th>\n",
       "      <td>4.2</td>\n",
       "      <td>Green</td>\n",
       "      <td>Very Good</td>\n",
       "      <td>221</td>\n",
       "    </tr>\n",
       "    <tr>\n",
       "      <th>26</th>\n",
       "      <td>4.3</td>\n",
       "      <td>Green</td>\n",
       "      <td>Very Good</td>\n",
       "      <td>174</td>\n",
       "    </tr>\n",
       "    <tr>\n",
       "      <th>27</th>\n",
       "      <td>4.4</td>\n",
       "      <td>Green</td>\n",
       "      <td>Very Good</td>\n",
       "      <td>143</td>\n",
       "    </tr>\n",
       "    <tr>\n",
       "      <th>28</th>\n",
       "      <td>4.5</td>\n",
       "      <td>Dark Green</td>\n",
       "      <td>Excellent</td>\n",
       "      <td>95</td>\n",
       "    </tr>\n",
       "    <tr>\n",
       "      <th>29</th>\n",
       "      <td>4.6</td>\n",
       "      <td>Dark Green</td>\n",
       "      <td>Excellent</td>\n",
       "      <td>78</td>\n",
       "    </tr>\n",
       "    <tr>\n",
       "      <th>30</th>\n",
       "      <td>4.7</td>\n",
       "      <td>Dark Green</td>\n",
       "      <td>Excellent</td>\n",
       "      <td>41</td>\n",
       "    </tr>\n",
       "    <tr>\n",
       "      <th>31</th>\n",
       "      <td>4.8</td>\n",
       "      <td>Dark Green</td>\n",
       "      <td>Excellent</td>\n",
       "      <td>25</td>\n",
       "    </tr>\n",
       "    <tr>\n",
       "      <th>32</th>\n",
       "      <td>4.9</td>\n",
       "      <td>Dark Green</td>\n",
       "      <td>Excellent</td>\n",
       "      <td>61</td>\n",
       "    </tr>\n",
       "  </tbody>\n",
       "</table>\n",
       "</div>"
      ],
      "text/plain": [
       "    Aggregate rating Rating color Rating text  count\n",
       "0                0.0        White   Not rated   2148\n",
       "1                1.8          Red        Poor      1\n",
       "2                1.9          Red        Poor      2\n",
       "3                2.0          Red        Poor      7\n",
       "4                2.1          Red        Poor     15\n",
       "5                2.2          Red        Poor     27\n",
       "6                2.3          Red        Poor     47\n",
       "7                2.4          Red        Poor     87\n",
       "8                2.5       Orange     Average    110\n",
       "9                2.6       Orange     Average    191\n",
       "10               2.7       Orange     Average    250\n",
       "11               2.8       Orange     Average    315\n",
       "12               2.9       Orange     Average    381\n",
       "13               3.0       Orange     Average    468\n",
       "14               3.1       Orange     Average    519\n",
       "15               3.2       Orange     Average    522\n",
       "16               3.3       Orange     Average    483\n",
       "17               3.4       Orange     Average    495\n",
       "18               3.5       Yellow        Good    480\n",
       "19               3.6       Yellow        Good    458\n",
       "20               3.7       Yellow        Good    427\n",
       "21               3.8       Yellow        Good    399\n",
       "22               3.9       Yellow        Good    332\n",
       "23               4.0        Green   Very Good    266\n",
       "24               4.1        Green   Very Good    274\n",
       "25               4.2        Green   Very Good    221\n",
       "26               4.3        Green   Very Good    174\n",
       "27               4.4        Green   Very Good    143\n",
       "28               4.5   Dark Green   Excellent     95\n",
       "29               4.6   Dark Green   Excellent     78\n",
       "30               4.7   Dark Green   Excellent     41\n",
       "31               4.8   Dark Green   Excellent     25\n",
       "32               4.9   Dark Green   Excellent     61"
      ]
     },
     "execution_count": 16,
     "metadata": {},
     "output_type": "execute_result"
    }
   ],
   "source": [
    "#Using groupby function to create a new dataframe-->\n",
    "\n",
    "gb=df.groupby(['Aggregate rating','Rating color','Rating text']).size().reset_index().rename(columns={0:'count'})\n",
    "gb"
   ]
  },
  {
   "cell_type": "code",
   "execution_count": 17,
   "id": "1c8cf846",
   "metadata": {},
   "outputs": [
    {
     "data": {
      "text/plain": [
       "Orange        30.303030\n",
       "Red           21.212121\n",
       "Yellow        15.151515\n",
       "Green         15.151515\n",
       "Dark Green    15.151515\n",
       "White          3.030303\n",
       "Name: Rating color, dtype: float64"
      ]
     },
     "execution_count": 17,
     "metadata": {},
     "output_type": "execute_result"
    }
   ],
   "source": [
    "#Extracting all the unique values in the 'Rating color' column-->\n",
    "\n",
    "gb['Rating color'].value_counts(normalize=True)*100"
   ]
  },
  {
   "cell_type": "raw",
   "id": "ee4b11ce",
   "metadata": {},
   "source": [
    "#From above we can conclude that more than 54% ratings are below Average"
   ]
  },
  {
   "cell_type": "code",
   "execution_count": 18,
   "id": "81132039",
   "metadata": {},
   "outputs": [
    {
     "data": {
      "image/png": "[encoded data removed]",
      "text/plain": [
       "<Figure size 640x480 with 1 Axes>"
      ]
     },
     "metadata": {},
     "output_type": "display_data"
    }
   ],
   "source": [
    "#Creating a countplot for 'Rating color'-->\n",
    "\n",
    "sns.countplot(x='Rating color', data=df)\n",
    "plt.grid(True)\n",
    "plt.show()"
   ]
  },
  {
   "cell_type": "code",
   "execution_count": 19,
   "id": "3e6c7214",
   "metadata": {},
   "outputs": [
    {
     "data": {
      "image/png": "[encoded data removed]",
      "text/plain": [
       "<Figure size 640x480 with 1 Axes>"
      ]
     },
     "metadata": {},
     "output_type": "display_data"
    }
   ],
   "source": [
    "#Creating a countplot for 'Rating text'-->\n",
    "\n",
    "sns.countplot(x='Rating text', data=df)\n",
    "plt.grid(True)\n",
    "plt.show()"
   ]
  },
  {
   "cell_type": "code",
   "execution_count": 20,
   "id": "6b84b51e",
   "metadata": {},
   "outputs": [
    {
     "data": {
      "image/png": "[encoded data removed]",
      "text/plain": [
       "<Figure size 800x500 with 1 Axes>"
      ]
     },
     "metadata": {},
     "output_type": "display_data"
    }
   ],
   "source": [
    "#Creating a Barplot for 'Aggregate Rating' along with 'count'-->\n",
    "\n",
    "plt.figure(figsize=(8,5))\n",
    "sns.barplot(x='Aggregate rating', y='count', data=gb)\n",
    "plt.grid(True)\n",
    "plt.xticks(rotation=45)\n",
    "plt.show()"
   ]
  },
  {
   "cell_type": "code",
   "execution_count": 21,
   "id": "0012b819",
   "metadata": {},
   "outputs": [
    {
     "data": {
      "image/png": "[encoded data removed]",
      "text/plain": [
       "<Figure size 800x500 with 1 Axes>"
      ]
     },
     "metadata": {},
     "output_type": "display_data"
    }
   ],
   "source": [
    "#'Not Rated' counts are extremely high, so let's not consider it-->\n",
    "\n",
    "non_zero_rating=gb[gb['Aggregate rating']!=0.0]\n",
    "\n",
    "plt.figure(figsize=(8,5))\n",
    "sns.barplot(x='Aggregate rating', y='count', data=non_zero_rating)\n",
    "plt.grid(True)\n",
    "plt.xticks(rotation=45)\n",
    "plt.show()"
   ]
  },
  {
   "cell_type": "raw",
   "id": "c96ad9fd",
   "metadata": {},
   "source": [
    "# After not considering the 'not rated' counts, we're getting a Gaussian Distribution"
   ]
  },
  {
   "cell_type": "markdown",
   "id": "bb1634f9",
   "metadata": {},
   "source": [
    "# Q2) Which country rated Restaurant as 0 and how many times?"
   ]
  },
  {
   "cell_type": "code",
   "execution_count": 22,
   "id": "653eb272",
   "metadata": {},
   "outputs": [
    {
     "data": {
      "text/plain": [
       "India             2139\n",
       "Brazil               5\n",
       "United States        3\n",
       "United Kingdom       1\n",
       "Name: Country, dtype: int64"
      ]
     },
     "execution_count": 22,
     "metadata": {},
     "output_type": "execute_result"
    }
   ],
   "source": [
    "#Finding out the countries which have given 0 Ratings -->\n",
    "\n",
    "zero_rating=df['Country'][df['Aggregate rating']==0.0]\n",
    "zero_rating.value_counts()"
   ]
  },
  {
   "cell_type": "raw",
   "id": "ff30ed22",
   "metadata": {},
   "source": [
    "#So, 'India', 'Brazil', 'United States', & 'United Kingdom' are the countries which have given 'zero' aggregate ratings"
   ]
  },
  {
   "cell_type": "markdown",
   "id": "fbd3df36",
   "metadata": {},
   "source": [
    "# Q3) Find out which currency is used by which country?"
   ]
  },
  {
   "cell_type": "code",
   "execution_count": 23,
   "id": "ab35730a",
   "metadata": {},
   "outputs": [
    {
     "data": {
      "text/html": [
       "<div>\n",
       "<style scoped>\n",
       "    .dataframe tbody tr th:only-of-type {\n",
       "        vertical-align: middle;\n",
       "    }\n",
       "\n",
       "    .dataframe tbody tr th {\n",
       "        vertical-align: top;\n",
       "    }\n",
       "\n",
       "    .dataframe thead th {\n",
       "        text-align: right;\n",
       "    }\n",
       "</style>\n",
       "<table border=\"1\" class=\"dataframe\">\n",
       "  <thead>\n",
       "    <tr style=\"text-align: right;\">\n",
       "      <th></th>\n",
       "      <th>Country</th>\n",
       "      <th>Currency</th>\n",
       "      <th>count</th>\n",
       "    </tr>\n",
       "  </thead>\n",
       "  <tbody>\n",
       "    <tr>\n",
       "      <th>3</th>\n",
       "      <td>India</td>\n",
       "      <td>Indian Rupees(Rs.)</td>\n",
       "      <td>8652</td>\n",
       "    </tr>\n",
       "    <tr>\n",
       "      <th>14</th>\n",
       "      <td>United States</td>\n",
       "      <td>Dollar($)</td>\n",
       "      <td>425</td>\n",
       "    </tr>\n",
       "    <tr>\n",
       "      <th>13</th>\n",
       "      <td>United Kingdom</td>\n",
       "      <td>Pounds(£)</td>\n",
       "      <td>80</td>\n",
       "    </tr>\n",
       "    <tr>\n",
       "      <th>1</th>\n",
       "      <td>Brazil</td>\n",
       "      <td>Brazilian Real(R$)</td>\n",
       "      <td>60</td>\n",
       "    </tr>\n",
       "    <tr>\n",
       "      <th>9</th>\n",
       "      <td>South Africa</td>\n",
       "      <td>Rand(R)</td>\n",
       "      <td>60</td>\n",
       "    </tr>\n",
       "    <tr>\n",
       "      <th>12</th>\n",
       "      <td>UAE</td>\n",
       "      <td>Emirati Diram(AED)</td>\n",
       "      <td>60</td>\n",
       "    </tr>\n",
       "    <tr>\n",
       "      <th>5</th>\n",
       "      <td>New Zealand</td>\n",
       "      <td>NewZealand($)</td>\n",
       "      <td>40</td>\n",
       "    </tr>\n",
       "    <tr>\n",
       "      <th>11</th>\n",
       "      <td>Turkey</td>\n",
       "      <td>Turkish Lira(TL)</td>\n",
       "      <td>34</td>\n",
       "    </tr>\n",
       "    <tr>\n",
       "      <th>0</th>\n",
       "      <td>Australia</td>\n",
       "      <td>Dollar($)</td>\n",
       "      <td>24</td>\n",
       "    </tr>\n",
       "    <tr>\n",
       "      <th>6</th>\n",
       "      <td>Phillipines</td>\n",
       "      <td>Botswana Pula(P)</td>\n",
       "      <td>22</td>\n",
       "    </tr>\n",
       "    <tr>\n",
       "      <th>4</th>\n",
       "      <td>Indonesia</td>\n",
       "      <td>Indonesian Rupiah(IDR)</td>\n",
       "      <td>21</td>\n",
       "    </tr>\n",
       "    <tr>\n",
       "      <th>7</th>\n",
       "      <td>Qatar</td>\n",
       "      <td>Qatari Rial(QR)</td>\n",
       "      <td>20</td>\n",
       "    </tr>\n",
       "    <tr>\n",
       "      <th>8</th>\n",
       "      <td>Singapore</td>\n",
       "      <td>Dollar($)</td>\n",
       "      <td>20</td>\n",
       "    </tr>\n",
       "    <tr>\n",
       "      <th>10</th>\n",
       "      <td>Sri Lanka</td>\n",
       "      <td>Sri Lankan Rupee(LKR)</td>\n",
       "      <td>20</td>\n",
       "    </tr>\n",
       "    <tr>\n",
       "      <th>2</th>\n",
       "      <td>Canada</td>\n",
       "      <td>Dollar($)</td>\n",
       "      <td>4</td>\n",
       "    </tr>\n",
       "  </tbody>\n",
       "</table>\n",
       "</div>"
      ],
      "text/plain": [
       "           Country                Currency  count\n",
       "3            India      Indian Rupees(Rs.)   8652\n",
       "14   United States               Dollar($)    425\n",
       "13  United Kingdom              Pounds(£)     80\n",
       "1           Brazil      Brazilian Real(R$)     60\n",
       "9     South Africa                 Rand(R)     60\n",
       "12             UAE      Emirati Diram(AED)     60\n",
       "5      New Zealand           NewZealand($)     40\n",
       "11          Turkey        Turkish Lira(TL)     34\n",
       "0        Australia               Dollar($)     24\n",
       "6      Phillipines        Botswana Pula(P)     22\n",
       "4        Indonesia  Indonesian Rupiah(IDR)     21\n",
       "7            Qatar         Qatari Rial(QR)     20\n",
       "8        Singapore               Dollar($)     20\n",
       "10       Sri Lanka   Sri Lankan Rupee(LKR)     20\n",
       "2           Canada               Dollar($)      4"
      ]
     },
     "execution_count": 23,
     "metadata": {},
     "output_type": "execute_result"
    }
   ],
   "source": [
    "#Finding out which currency is used by which country-->\n",
    "\n",
    "df[['Country','Currency']].groupby(['Country','Currency']).size().reset_index().rename(\n",
    "    columns={0:'count'}).sort_values(by='count',ascending=False)\n",
    "\n",
    "#OR->\n",
    "#currency=df[['Country','Currency']]\n",
    "#currency.value_counts()"
   ]
  },
  {
   "cell_type": "raw",
   "id": "b6afd654",
   "metadata": {},
   "source": [
    "#So, from above we can check the currency for all the respective countries along with their count (frequency)"
   ]
  },
  {
   "cell_type": "markdown",
   "id": "51d86d53",
   "metadata": {},
   "source": [
    "# Q4) Which Countries have online deliveries option?"
   ]
  },
  {
   "cell_type": "code",
   "execution_count": 24,
   "id": "0869b5b1",
   "metadata": {},
   "outputs": [
    {
     "data": {
      "text/plain": [
       "India    2423\n",
       "UAE        28\n",
       "Name: Country, dtype: int64"
      ]
     },
     "execution_count": 24,
     "metadata": {},
     "output_type": "execute_result"
    }
   ],
   "source": [
    "#Finding out countries have online delivery option available-->\n",
    "\n",
    "\n",
    "online_delivery=df['Country'][df['Has Online delivery']=='Yes']\n",
    "online_delivery.value_counts()"
   ]
  },
  {
   "cell_type": "raw",
   "id": "78f563fd",
   "metadata": {},
   "source": [
    "Hence, Only India and UAE have the online delivery facility"
   ]
  },
  {
   "cell_type": "markdown",
   "id": "f9e200ad",
   "metadata": {},
   "source": [
    "# Q5) Provide a pie chart representation of restaurants in the top 5 Indian cities that offer online delivery options?"
   ]
  },
  {
   "cell_type": "code",
   "execution_count": 25,
   "id": "6d6e3e36",
   "metadata": {},
   "outputs": [
    {
     "data": {
      "text/plain": [
       "New Delhi    1489\n",
       "Gurgaon       425\n",
       "Noida         364\n",
       "Faridabad      35\n",
       "Chennai        13\n",
       "Name: City, dtype: int64"
      ]
     },
     "execution_count": 25,
     "metadata": {},
     "output_type": "execute_result"
    }
   ],
   "source": [
    "#Creating a new dataframe of Indian cities with online delivery option-->\n",
    "\n",
    "indian_df=df[df['Country']=='India']\n",
    "indian_cities=indian_df[indian_df['Has Online delivery']=='Yes']\n",
    "indian_cities['City'].value_counts().head()"
   ]
  },
  {
   "cell_type": "code",
   "execution_count": 26,
   "id": "151fb9e5",
   "metadata": {},
   "outputs": [
    {
     "data": {
      "image/png": "[encoded data removed]",
      "text/plain": [
       "<Figure size 640x480 with 1 Axes>"
      ]
     },
     "metadata": {},
     "output_type": "display_data"
    }
   ],
   "source": [
    "#Creating a piechart for the same-->\n",
    "\n",
    "plt.pie(indian_cities['City'].value_counts().head(), labels=indian_cities['City'].value_counts().head().keys(), \n",
    "        autopct='%0.1f%%', shadow=True, explode=[.1,0,0,0,0])\n",
    "plt.show()"
   ]
  },
  {
   "cell_type": "raw",
   "id": "d60beba1",
   "metadata": {},
   "source": [
    "# Our observation reveals that online delivery restaurants in India are majorly based on Delhi NCR region with top 4 cities featuring in the pie chart are from the NCR region only"
   ]
  },
  {
   "cell_type": "markdown",
   "id": "de7cbff9",
   "metadata": {},
   "source": [
    "# Q6) Find Top 5 Cuisines in Histogram form"
   ]
  },
  {
   "cell_type": "code",
   "execution_count": 27,
   "id": "ead2976f",
   "metadata": {},
   "outputs": [
    {
     "data": {
      "text/plain": [
       "North Indian             936\n",
       "North Indian, Chinese    511\n",
       "Chinese                  354\n",
       "Fast Food                354\n",
       "North Indian, Mughlai    334\n",
       "Name: Cuisines, dtype: int64"
      ]
     },
     "execution_count": 27,
     "metadata": {},
     "output_type": "execute_result"
    }
   ],
   "source": [
    "#Finding out the top 5 cuisines-->\n",
    "\n",
    "df['Cuisines'].value_counts().head()"
   ]
  },
  {
   "cell_type": "code",
   "execution_count": 28,
   "id": "fd30fc1e",
   "metadata": {},
   "outputs": [
    {
     "data": {
      "text/plain": [
       "North Indian         3960\n",
       "Chinese              2735\n",
       "Fast Food            1986\n",
       "Mughlai               995\n",
       "Italian               764\n",
       "Bakery                745\n",
       "Continental           736\n",
       "Cafe                  703\n",
       "Desserts              653\n",
       "South Indian          636\n",
       "Street Food           562\n",
       "American              390\n",
       "Pizza                 381\n",
       "Mithai                380\n",
       "Burger                251\n",
       "Thai                  234\n",
       "Asian                 233\n",
       "Beverages             229\n",
       "Ice Cream             226\n",
       "Mexican               181\n",
       "Biryani               177\n",
       "Seafood               174\n",
       "Healthy Food          150\n",
       "European              148\n",
       "Japanese              135\n",
       "Raw Meats             114\n",
       "Finger Food           114\n",
       "Mediterranean         112\n",
       "Salad                  93\n",
       "Sushi                  75\n",
       "Indian                 70\n",
       "Lebanese               69\n",
       "Steak                  62\n",
       "Sandwich               53\n",
       "Tea                    48\n",
       "Tibetan                44\n",
       "Breakfast              41\n",
       "Bar Food               39\n",
       "BBQ                    33\n",
       "French                 29\n",
       "Bengali                29\n",
       "Juices                 29\n",
       "Brazilian              28\n",
       "Arabian                28\n",
       "Hyderabadi             26\n",
       "Southern               24\n",
       "Kerala                 23\n",
       "Vegetarian             23\n",
       "Middle Eastern         22\n",
       "Malaysian              22\n",
       "Grill                  21\n",
       "Vietnamese             21\n",
       "International          21\n",
       "Korean                 21\n",
       "Rajasthani             21\n",
       "Goan                   20\n",
       "Kashmiri               20\n",
       "Coffee and Tea         19\n",
       "Tapas                  19\n",
       "Tex-Mex                19\n",
       "Modern Indian          16\n",
       "Spanish                16\n",
       "British                16\n",
       "Turkish                15\n",
       "Greek                  15\n",
       "Afghani                14\n",
       "Indonesian             14\n",
       "Lucknowi               13\n",
       "Pakistani              12\n",
       "Modern Australian      11\n",
       "Awadhi                 11\n",
       "Chettinad              11\n",
       "Latin American         11\n",
       "Gujarati               11\n",
       "Burmese                10\n",
       "Filipino               10\n",
       "Western                10\n",
       "Andhra                 10\n",
       "Cajun                  10\n",
       "Maharashtrian          10\n",
       "German                 10\n",
       "Kebab                  10\n",
       "North Eastern           9\n",
       "Nepalese                9\n",
       "Contemporary            9\n",
       "Naga                    8\n",
       "African                 8\n",
       "Parsi                   8\n",
       "Hawaiian                8\n",
       "Turkish Pizza           8\n",
       "Caribbean               7\n",
       "Portuguese              7\n",
       "Southwestern            7\n",
       "Diner                   6\n",
       "Bihari                  6\n",
       "Kiwi                    6\n",
       "Curry                   6\n",
       "South African           6\n",
       "Sri Lankan              5\n",
       "Australian              5\n",
       "Moroccan                5\n",
       "Patisserie              4\n",
       "Charcoal Grill          4\n",
       "Restaurant Cafe         4\n",
       "Assamese                4\n",
       "Singaporean             4\n",
       "World Cuisine           4\n",
       "Fusion                  4\n",
       "Mangalorean             4\n",
       "Sunda                   3\n",
       "Scottish                3\n",
       "Iranian                 3\n",
       "Armenian                3\n",
       "Dim Sum                 3\n",
       "Deli                    3\n",
       "Cuban                   2\n",
       "Taiwanese               2\n",
       "Asian Fusion            2\n",
       "Ramen                   2\n",
       "Argentine               2\n",
       "Teriyaki                2\n",
       "Izgara                  2\n",
       "Pub Food                2\n",
       "New American            2\n",
       "South American          2\n",
       "Cantonese               2\n",
       "Oriya                   2\n",
       "Drinks Only             2\n",
       "Belgian                 2\n",
       "Persian                 2\n",
       "Durban                  1\n",
       "Dí_ner                  1\n",
       "Canadian                1\n",
       "Fish and Chips          1\n",
       "Peranakan               1\n",
       "Cuisine Varies          1\n",
       "Malwani                 1\n",
       "Malay                   1\n",
       "Soul Food               1\n",
       "Irish                   1\n",
       "Bubble Tea              1\n",
       "Mineira                 1\n",
       "Gourmet Fast Food       1\n",
       "Peruvian                1\n",
       "Bí_rek                  1\n",
       "dtype: int64"
      ]
     },
     "execution_count": 28,
     "metadata": {},
     "output_type": "execute_result"
    }
   ],
   "source": [
    "# Splitting the Cuisines column categories and creating a new DataFrame-->\n",
    "\n",
    "Cuisines=df['Cuisines'].str.split(', ', expand=True).stack().reset_index(drop=True)\n",
    "Cuisines.value_counts()"
   ]
  },
  {
   "cell_type": "code",
   "execution_count": 29,
   "id": "53e02901",
   "metadata": {},
   "outputs": [
    {
     "data": {
      "text/html": [
       "<div>\n",
       "<style scoped>\n",
       "    .dataframe tbody tr th:only-of-type {\n",
       "        vertical-align: middle;\n",
       "    }\n",
       "\n",
       "    .dataframe tbody tr th {\n",
       "        vertical-align: top;\n",
       "    }\n",
       "\n",
       "    .dataframe thead th {\n",
       "        text-align: right;\n",
       "    }\n",
       "</style>\n",
       "<table border=\"1\" class=\"dataframe\">\n",
       "  <thead>\n",
       "    <tr style=\"text-align: right;\">\n",
       "      <th></th>\n",
       "      <th>Restaurant ID</th>\n",
       "      <th>Restaurant Name</th>\n",
       "      <th>Country Code</th>\n",
       "      <th>City</th>\n",
       "      <th>Address</th>\n",
       "      <th>Locality</th>\n",
       "      <th>Locality Verbose</th>\n",
       "      <th>Longitude</th>\n",
       "      <th>Latitude</th>\n",
       "      <th>Average Cost for two</th>\n",
       "      <th>Currency</th>\n",
       "      <th>Has Table booking</th>\n",
       "      <th>Has Online delivery</th>\n",
       "      <th>Is delivering now</th>\n",
       "      <th>Switch to order menu</th>\n",
       "      <th>Price range</th>\n",
       "      <th>Aggregate rating</th>\n",
       "      <th>Rating color</th>\n",
       "      <th>Rating text</th>\n",
       "      <th>Votes</th>\n",
       "      <th>Country</th>\n",
       "      <th>Cuisines</th>\n",
       "    </tr>\n",
       "  </thead>\n",
       "  <tbody>\n",
       "    <tr>\n",
       "      <th>0</th>\n",
       "      <td>6317637</td>\n",
       "      <td>Le Petit Souffle</td>\n",
       "      <td>162</td>\n",
       "      <td>Makati City</td>\n",
       "      <td>Third Floor, Century City Mall, Kalayaan Avenu...</td>\n",
       "      <td>Century City Mall, Poblacion, Makati City</td>\n",
       "      <td>Century City Mall, Poblacion, Makati City, Mak...</td>\n",
       "      <td>121.027535</td>\n",
       "      <td>14.565443</td>\n",
       "      <td>1100</td>\n",
       "      <td>Botswana Pula(P)</td>\n",
       "      <td>Yes</td>\n",
       "      <td>No</td>\n",
       "      <td>No</td>\n",
       "      <td>No</td>\n",
       "      <td>3</td>\n",
       "      <td>4.8</td>\n",
       "      <td>Dark Green</td>\n",
       "      <td>Excellent</td>\n",
       "      <td>314</td>\n",
       "      <td>Phillipines</td>\n",
       "      <td>French</td>\n",
       "    </tr>\n",
       "    <tr>\n",
       "      <th>1</th>\n",
       "      <td>6304287</td>\n",
       "      <td>Izakaya Kikufuji</td>\n",
       "      <td>162</td>\n",
       "      <td>Makati City</td>\n",
       "      <td>Little Tokyo, 2277 Chino Roces Avenue, Legaspi...</td>\n",
       "      <td>Little Tokyo, Legaspi Village, Makati City</td>\n",
       "      <td>Little Tokyo, Legaspi Village, Makati City, Ma...</td>\n",
       "      <td>121.014101</td>\n",
       "      <td>14.553708</td>\n",
       "      <td>1200</td>\n",
       "      <td>Botswana Pula(P)</td>\n",
       "      <td>Yes</td>\n",
       "      <td>No</td>\n",
       "      <td>No</td>\n",
       "      <td>No</td>\n",
       "      <td>3</td>\n",
       "      <td>4.5</td>\n",
       "      <td>Dark Green</td>\n",
       "      <td>Excellent</td>\n",
       "      <td>591</td>\n",
       "      <td>Phillipines</td>\n",
       "      <td>Japanese</td>\n",
       "    </tr>\n",
       "    <tr>\n",
       "      <th>2</th>\n",
       "      <td>6300002</td>\n",
       "      <td>Heat - Edsa Shangri-La</td>\n",
       "      <td>162</td>\n",
       "      <td>Mandaluyong City</td>\n",
       "      <td>Edsa Shangri-La, 1 Garden Way, Ortigas, Mandal...</td>\n",
       "      <td>Edsa Shangri-La, Ortigas, Mandaluyong City</td>\n",
       "      <td>Edsa Shangri-La, Ortigas, Mandaluyong City, Ma...</td>\n",
       "      <td>121.056831</td>\n",
       "      <td>14.581404</td>\n",
       "      <td>4000</td>\n",
       "      <td>Botswana Pula(P)</td>\n",
       "      <td>Yes</td>\n",
       "      <td>No</td>\n",
       "      <td>No</td>\n",
       "      <td>No</td>\n",
       "      <td>4</td>\n",
       "      <td>4.4</td>\n",
       "      <td>Green</td>\n",
       "      <td>Very Good</td>\n",
       "      <td>270</td>\n",
       "      <td>Phillipines</td>\n",
       "      <td>Desserts</td>\n",
       "    </tr>\n",
       "  </tbody>\n",
       "</table>\n",
       "</div>"
      ],
      "text/plain": [
       "   Restaurant ID         Restaurant Name  Country Code              City  \\\n",
       "0        6317637        Le Petit Souffle           162       Makati City   \n",
       "1        6304287        Izakaya Kikufuji           162       Makati City   \n",
       "2        6300002  Heat - Edsa Shangri-La           162  Mandaluyong City   \n",
       "\n",
       "                                             Address  \\\n",
       "0  Third Floor, Century City Mall, Kalayaan Avenu...   \n",
       "1  Little Tokyo, 2277 Chino Roces Avenue, Legaspi...   \n",
       "2  Edsa Shangri-La, 1 Garden Way, Ortigas, Mandal...   \n",
       "\n",
       "                                     Locality  \\\n",
       "0   Century City Mall, Poblacion, Makati City   \n",
       "1  Little Tokyo, Legaspi Village, Makati City   \n",
       "2  Edsa Shangri-La, Ortigas, Mandaluyong City   \n",
       "\n",
       "                                    Locality Verbose   Longitude   Latitude  \\\n",
       "0  Century City Mall, Poblacion, Makati City, Mak...  121.027535  14.565443   \n",
       "1  Little Tokyo, Legaspi Village, Makati City, Ma...  121.014101  14.553708   \n",
       "2  Edsa Shangri-La, Ortigas, Mandaluyong City, Ma...  121.056831  14.581404   \n",
       "\n",
       "   Average Cost for two          Currency Has Table booking  \\\n",
       "0                  1100  Botswana Pula(P)               Yes   \n",
       "1                  1200  Botswana Pula(P)               Yes   \n",
       "2                  4000  Botswana Pula(P)               Yes   \n",
       "\n",
       "  Has Online delivery Is delivering now Switch to order menu  Price range  \\\n",
       "0                  No                No                   No            3   \n",
       "1                  No                No                   No            3   \n",
       "2                  No                No                   No            4   \n",
       "\n",
       "   Aggregate rating Rating color Rating text  Votes      Country  Cuisines  \n",
       "0               4.8   Dark Green   Excellent    314  Phillipines    French  \n",
       "1               4.5   Dark Green   Excellent    591  Phillipines  Japanese  \n",
       "2               4.4        Green   Very Good    270  Phillipines  Desserts  "
      ]
     },
     "execution_count": 29,
     "metadata": {},
     "output_type": "execute_result"
    }
   ],
   "source": [
    "#Adding the new Cuisines column into our existing dataframe while dropping the previous 'Cuisines' column-->\n",
    "\n",
    "df.drop(columns=['Cuisines'], inplace=True)\n",
    "\n",
    "df['Cuisines']=Cuisines\n",
    "df.head(3)"
   ]
  },
  {
   "cell_type": "code",
   "execution_count": 31,
   "id": "6bf3162a",
   "metadata": {},
   "outputs": [
    {
     "data": {
      "text/plain": [
       "North Indian    1749\n",
       "Chinese         1182\n",
       "Fast Food        807\n",
       "Mughlai          441\n",
       "Italian          427\n",
       "Name: Cuisines, dtype: int64"
      ]
     },
     "execution_count": 31,
     "metadata": {},
     "output_type": "execute_result"
    }
   ],
   "source": [
    "#Finding the top 5 Cuisines-->\n",
    "\n",
    "df['Cuisines'].value_counts()[:5]"
   ]
  },
  {
   "cell_type": "code",
   "execution_count": 33,
   "id": "5a10fd28",
   "metadata": {},
   "outputs": [
    {
     "data": {
      "image/png": "[encoded data removed]",
      "text/plain": [
       "<Figure size 640x480 with 1 Axes>"
      ]
     },
     "metadata": {},
     "output_type": "display_data"
    }
   ],
   "source": [
    "#Creating a Piechart for the same-->\n",
    "\n",
    "plt.pie(df['Cuisines'].value_counts()[:5], labels=df['Cuisines'].value_counts()[:5].keys(), \n",
    "        autopct='%0.1f%%', explode=[0.1,0,0,0,0], shadow=True)\n",
    "plt.show()"
   ]
  },
  {
   "cell_type": "raw",
   "id": "30985021",
   "metadata": {},
   "source": [
    "#From our observation we can infer that 38% i.e., more than 1/3rd of Cuisines are 'North Indian' while 25.7% (1/4th) are of 'Chinese'"
   ]
  }
 ],
 "metadata": {
  "kernelspec": {
   "display_name": "Python 3 (ipykernel)",
   "language": "python",
   "name": "python3"
  },
  "language_info": {
   "codemirror_mode": {
    "name": "ipython",
    "version": 3
   },
   "file_extension": ".py",
   "mimetype": "text/x-python",
   "name": "python",
   "nbconvert_exporter": "python",
   "pygments_lexer": "ipython3",
   "version": "3.11.4"
  }
 },
 "nbformat": 4,
 "nbformat_minor": 5
}
